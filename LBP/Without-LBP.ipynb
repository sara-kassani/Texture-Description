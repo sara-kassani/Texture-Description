{
 "cells": [
  {
   "cell_type": "code",
   "execution_count": 2,
   "metadata": {},
   "outputs": [],
   "source": [
    "import warnings\n",
    "warnings.filterwarnings('always')\n",
    "warnings.filterwarnings('ignore')"
   ]
  },
  {
   "cell_type": "code",
   "execution_count": 28,
   "metadata": {},
   "outputs": [],
   "source": [
    "import os\n",
    "import numpy as np\n",
    "import cv2\n",
    "import pandas as pd\n",
    "import seaborn as sns\n",
    "import skimage.transform\n",
    "from tqdm import tqdm, tqdm_notebook\n",
    "from keras.preprocessing.image import load_img, img_to_array, array_to_img\n",
    "\n",
    "from sklearn.model_selection import train_test_split\n",
    "from keras.utils.np_utils import to_categorical\n",
    "\n",
    "\n",
    "import matplotlib.pyplot as plt\n",
    "%matplotlib inline"
   ]
  },
  {
   "cell_type": "code",
   "execution_count": 4,
   "metadata": {},
   "outputs": [],
   "source": [
    "imageSize=224\n",
    "\n",
    "train_dir = 'data/train/'\n",
    "validation_dir = 'data/validation/'\n",
    "test_dir = 'data/test/'"
   ]
  },
  {
   "cell_type": "code",
   "execution_count": 5,
   "metadata": {},
   "outputs": [],
   "source": [
    "def get_data(folder):\n",
    "    \"\"\"\n",
    "    Load the data and labels from the given folder.\n",
    "    \"\"\"\n",
    "    X = []\n",
    "    y = []\n",
    "    for folderName in os.listdir(folder):\n",
    "        if not folderName.startswith('.'):\n",
    "            if folderName in ['benign']:\n",
    "                label = 0\n",
    "            elif folderName in ['malignant']:\n",
    "                label = 1\n",
    "#             else:\n",
    "#                 label = 4\n",
    "            for image_filename in tqdm_notebook(os.listdir(folder + folderName)):\n",
    "                img_file = cv2.imread(folder + folderName + '/' + image_filename)\n",
    "                if img_file is not None:\n",
    "                    img_file = skimage.transform.resize(img_file, (imageSize, imageSize, 3))\n",
    "                    img_arr = np.asarray(img_file)\n",
    "                    X.append(img_arr)\n",
    "                    y.append(label)\n",
    "    X = np.asarray(X)\n",
    "    y = np.asarray(y)\n",
    "    return X,y"
   ]
  },
  {
   "cell_type": "code",
   "execution_count": 6,
   "metadata": {},
   "outputs": [
    {
     "data": {
      "application/vnd.jupyter.widget-view+json": {
       "model_id": "3a220171fcd74e758a09ec615994f1e1",
       "version_major": 2,
       "version_minor": 0
      },
      "text/plain": [
       "HBox(children=(IntProgress(value=0, max=258), HTML(value='')))"
      ]
     },
     "metadata": {},
     "output_type": "display_data"
    },
    {
     "name": "stdout",
     "output_type": "stream",
     "text": [
      "\n"
     ]
    },
    {
     "data": {
      "application/vnd.jupyter.widget-view+json": {
       "model_id": "0354ebb77f4b40d8a8f21539e01ed3d3",
       "version_major": 2,
       "version_minor": 0
      },
      "text/plain": [
       "HBox(children=(IntProgress(value=0, max=62), HTML(value='')))"
      ]
     },
     "metadata": {},
     "output_type": "display_data"
    },
    {
     "name": "stdout",
     "output_type": "stream",
     "text": [
      "\n"
     ]
    }
   ],
   "source": [
    "X_train, y_train = get_data(train_dir)"
   ]
  },
  {
   "cell_type": "code",
   "execution_count": 8,
   "metadata": {},
   "outputs": [
    {
     "data": {
      "application/vnd.jupyter.widget-view+json": {
       "model_id": "10718e1b2ae74864bde75700decc72bd",
       "version_major": 2,
       "version_minor": 0
      },
      "text/plain": [
       "HBox(children=(IntProgress(value=0, max=50), HTML(value='')))"
      ]
     },
     "metadata": {},
     "output_type": "display_data"
    },
    {
     "name": "stdout",
     "output_type": "stream",
     "text": [
      "\n"
     ]
    },
    {
     "data": {
      "application/vnd.jupyter.widget-view+json": {
       "model_id": "c102c338e1384d1d98f0b2be4ae9c580",
       "version_major": 2,
       "version_minor": 0
      },
      "text/plain": [
       "HBox(children=(IntProgress(value=0, max=17), HTML(value='')))"
      ]
     },
     "metadata": {},
     "output_type": "display_data"
    },
    {
     "name": "stdout",
     "output_type": "stream",
     "text": [
      "\n"
     ]
    }
   ],
   "source": [
    "X_validation, y_validation= get_data(validation_dir)"
   ]
  },
  {
   "cell_type": "code",
   "execution_count": 7,
   "metadata": {},
   "outputs": [
    {
     "data": {
      "application/vnd.jupyter.widget-view+json": {
       "model_id": "b5de9d8975c348e28d13914cc52f7e53",
       "version_major": 2,
       "version_minor": 0
      },
      "text/plain": [
       "HBox(children=(IntProgress(value=0, max=26), HTML(value='')))"
      ]
     },
     "metadata": {},
     "output_type": "display_data"
    },
    {
     "name": "stdout",
     "output_type": "stream",
     "text": [
      "\n"
     ]
    },
    {
     "data": {
      "application/vnd.jupyter.widget-view+json": {
       "model_id": "03151a7b9fee4de385a8c762ac0b05c9",
       "version_major": 2,
       "version_minor": 0
      },
      "text/plain": [
       "HBox(children=(IntProgress(value=0, max=13), HTML(value='')))"
      ]
     },
     "metadata": {},
     "output_type": "display_data"
    },
    {
     "name": "stdout",
     "output_type": "stream",
     "text": [
      "\n"
     ]
    }
   ],
   "source": [
    "X_test, y_test= get_data(test_dir)"
   ]
  },
  {
   "cell_type": "code",
   "execution_count": 9,
   "metadata": {},
   "outputs": [
    {
     "name": "stdout",
     "output_type": "stream",
     "text": [
      "X_train shape: (320, 224, 224, 3)\n",
      "y_train shape: (320,)\n",
      "X_validation shape: (67, 224, 224, 3)\n",
      "y_validation shape: (67,)\n",
      "X_test shape: (39, 224, 224, 3)\n",
      "y_test shape: (39,)\n"
     ]
    }
   ],
   "source": [
    "print(\"X_train shape:\", X_train.shape)\n",
    "print(\"y_train shape:\", y_train.shape)\n",
    "print(\"X_validation shape:\", X_validation.shape)\n",
    "print(\"y_validation shape:\", y_validation.shape)\n",
    "print(\"X_test shape:\", X_test.shape)\n",
    "print(\"y_test shape:\", y_test.shape)"
   ]
  },
  {
   "cell_type": "code",
   "execution_count": 10,
   "metadata": {},
   "outputs": [],
   "source": [
    "y_trainHot = to_categorical(y_train, num_classes = 2)\n",
    "y_valHot = to_categorical(y_validation, num_classes = 2)\n",
    "y_testHot = to_categorical(y_test, num_classes = 2)"
   ]
  },
  {
   "cell_type": "code",
   "execution_count": 12,
   "metadata": {},
   "outputs": [
    {
     "name": "stdout",
     "output_type": "stream",
     "text": [
      "X_train shape: (320, 224, 224, 3)\n",
      "y_train shape: (320, 2)\n",
      "X_validation shape: (67, 224, 224, 3)\n",
      "y_validation shape: (67, 2)\n",
      "X_test shape: (39, 224, 224, 3)\n",
      "y_test shape: (39, 2)\n"
     ]
    }
   ],
   "source": [
    "print(\"X_train shape:\", X_train.shape)\n",
    "print(\"y_train shape:\", y_trainHot.shape)\n",
    "print(\"X_validation shape:\", X_validation.shape)\n",
    "print(\"y_validation shape:\", y_valHot.shape)\n",
    "print(\"X_test shape:\", X_test.shape)\n",
    "print(\"y_test shape:\", y_testHot.shape)"
   ]
  },
  {
   "cell_type": "code",
   "execution_count": 13,
   "metadata": {},
   "outputs": [
    {
     "data": {
      "image/png": "[encoded data removed]",
      "text/plain": [
       "<Figure size 432x288 with 1 Axes>"
      ]
     },
     "metadata": {},
     "output_type": "display_data"
    }
   ],
   "source": [
    "plt.imshow(X_train[0])\n",
    "plt.show()"
   ]
  },
  {
   "cell_type": "code",
   "execution_count": 17,
   "metadata": {},
   "outputs": [
    {
     "data": {
      "text/plain": [
       "array([0, 0, 0, 0, 0, 0, 0, 0, 0, 0, 0, 0, 0, 0, 0, 0, 0, 0, 0, 0, 0, 0,\n",
       "       0, 0, 0, 0, 1, 1, 1, 1, 1, 1, 1, 1, 1, 1, 1, 1, 1])"
      ]
     },
     "execution_count": 17,
     "metadata": {},
     "output_type": "execute_result"
    }
   ],
   "source": [
    "y_test"
   ]
  },
  {
   "cell_type": "code",
   "execution_count": 15,
   "metadata": {},
   "outputs": [
    {
     "data": {
      "text/plain": [
       "array([[1., 0.],\n",
       "       [1., 0.],\n",
       "       [1., 0.],\n",
       "       [1., 0.],\n",
       "       [1., 0.],\n",
       "       [1., 0.],\n",
       "       [1., 0.],\n",
       "       [1., 0.],\n",
       "       [1., 0.],\n",
       "       [1., 0.],\n",
       "       [1., 0.],\n",
       "       [1., 0.],\n",
       "       [1., 0.],\n",
       "       [1., 0.],\n",
       "       [1., 0.],\n",
       "       [1., 0.],\n",
       "       [1., 0.],\n",
       "       [1., 0.],\n",
       "       [1., 0.],\n",
       "       [1., 0.],\n",
       "       [1., 0.],\n",
       "       [1., 0.],\n",
       "       [1., 0.],\n",
       "       [1., 0.],\n",
       "       [1., 0.],\n",
       "       [1., 0.],\n",
       "       [0., 1.],\n",
       "       [0., 1.],\n",
       "       [0., 1.],\n",
       "       [0., 1.],\n",
       "       [0., 1.],\n",
       "       [0., 1.],\n",
       "       [0., 1.],\n",
       "       [0., 1.],\n",
       "       [0., 1.],\n",
       "       [0., 1.],\n",
       "       [0., 1.],\n",
       "       [0., 1.],\n",
       "       [0., 1.]], dtype=float32)"
      ]
     },
     "execution_count": 15,
     "metadata": {},
     "output_type": "execute_result"
    }
   ],
   "source": [
    "y_testHot"
   ]
  },
  {
   "cell_type": "code",
   "execution_count": 19,
   "metadata": {},
   "outputs": [],
   "source": [
    "input_shape = (imageSize, imageSize, 3)\n",
    "output_classes = 2\n",
    "\n",
    "from keras.applications import ResNet50\n",
    "from keras.models import Model\n",
    "from keras.optimizers import Adam\n",
    "from keras.layers import Input, Flatten, Dense, Dropout, BatchNormalization\n",
    "from keras.regularizers import l2\n",
    "\n",
    "model_dense_conv = ResNet50(weights='imagenet', include_top=False)  \n",
    "    #Create your own input format\n",
    "keras_input = Input(shape= input_shape, name = 'image_input')\n",
    "    \n",
    "    #Use the generated model \n",
    "output_dense_conv = model_dense_conv(keras_input)\n",
    "    \n",
    "    #Add the fully-connected layers \n",
    "x = Flatten(name='flatten')(output_dense_conv)\n",
    "x = Dense(1024, activation= 'relu', kernel_regularizer=l2(0.0001), bias_regularizer=l2(0.0001), name='fc1')(x)\n",
    "x = BatchNormalization()(x)\n",
    "x = Dropout(0.5)(x)\n",
    "x = Dense(1024, activation= 'relu', kernel_regularizer=l2(0.0001), bias_regularizer=l2(0.0001), name='fc2')(x)\n",
    "x = BatchNormalization()(x)\n",
    "x = Dropout(0.5)(x)\n",
    "x = Dense(output_classes, activation='softmax', kernel_regularizer=l2(0.0001), bias_regularizer=l2(0.0001), name='predictions')(x)\n",
    "    \n",
    "    #Create your own model \n",
    "model = Model(inputs=keras_input, outputs=x)"
   ]
  },
  {
   "cell_type": "code",
   "execution_count": 20,
   "metadata": {},
   "outputs": [],
   "source": [
    "adam_opt = Adam(lr=1e-5, beta_1=0.9, beta_2=0.999, epsilon=1e-08, decay=1e-5)\n",
    "# sgd_opt = SGD(lr=1e-06, momentum=0.0, decay=0.0, nesterov=False)\n",
    "# rmsp_opt = RMSprop(lr=1e-4, decay=0.9)\n",
    "\n",
    "model.compile(optimizer = adam_opt, loss='categorical_crossentropy', metrics=['accuracy'])"
   ]
  },
  {
   "cell_type": "code",
   "execution_count": 23,
   "metadata": {},
   "outputs": [
    {
     "name": "stdout",
     "output_type": "stream",
     "text": [
      "WARNING:tensorflow:Variable *= will be deprecated. Use `var.assign(var * other)` if you want assignment to the variable value or `x = x * y` if you want a new python Tensor object.\n",
      "Train on 320 samples, validate on 67 samples\n",
      "Epoch 1/20\n",
      " - 21s - loss: 1.7126 - acc: 0.4625 - val_loss: 1.4644 - val_acc: 0.4478\n",
      "Epoch 2/20\n",
      " - 5s - loss: 1.5409 - acc: 0.5063 - val_loss: 1.3854 - val_acc: 0.5075\n",
      "Epoch 3/20\n",
      " - 5s - loss: 1.3676 - acc: 0.5562 - val_loss: 1.3125 - val_acc: 0.5373\n",
      "Epoch 4/20\n",
      " - 5s - loss: 1.4292 - acc: 0.5406 - val_loss: 1.3417 - val_acc: 0.4776\n",
      "Epoch 5/20\n",
      " - 5s - loss: 1.2783 - acc: 0.5844 - val_loss: 1.2696 - val_acc: 0.4328\n",
      "Epoch 6/20\n",
      " - 5s - loss: 1.2262 - acc: 0.6031 - val_loss: 1.3116 - val_acc: 0.4776\n",
      "Epoch 7/20\n",
      " - 5s - loss: 1.2114 - acc: 0.5969 - val_loss: 1.3208 - val_acc: 0.5373\n",
      "Epoch 8/20\n",
      " - 5s - loss: 1.1535 - acc: 0.5906 - val_loss: 1.3070 - val_acc: 0.5224\n",
      "Epoch 9/20\n",
      " - 5s - loss: 1.1006 - acc: 0.6156 - val_loss: 1.3177 - val_acc: 0.4925\n",
      "Epoch 10/20\n",
      " - 5s - loss: 1.2416 - acc: 0.6500 - val_loss: 1.2119 - val_acc: 0.4925\n",
      "Epoch 11/20\n",
      " - 5s - loss: 1.2967 - acc: 0.5906 - val_loss: 1.2108 - val_acc: 0.5373\n",
      "Epoch 12/20\n",
      " - 5s - loss: 1.0847 - acc: 0.6375 - val_loss: 1.1415 - val_acc: 0.4328\n",
      "Epoch 13/20\n",
      " - 5s - loss: 1.0663 - acc: 0.6812 - val_loss: 1.3772 - val_acc: 0.3731\n",
      "Epoch 14/20\n",
      " - 5s - loss: 1.0720 - acc: 0.6687 - val_loss: 1.2924 - val_acc: 0.4179\n",
      "Epoch 15/20\n",
      " - 5s - loss: 1.0496 - acc: 0.6594 - val_loss: 1.5670 - val_acc: 0.3881\n",
      "Epoch 16/20\n",
      " - 5s - loss: 0.8899 - acc: 0.6969 - val_loss: 1.3600 - val_acc: 0.4627\n",
      "Epoch 17/20\n",
      " - 5s - loss: 1.0017 - acc: 0.6938 - val_loss: 1.2724 - val_acc: 0.4776\n",
      "Epoch 18/20\n",
      " - 5s - loss: 0.9804 - acc: 0.6906 - val_loss: 1.2306 - val_acc: 0.5224\n",
      "Epoch 19/20\n",
      " - 5s - loss: 0.9460 - acc: 0.7188 - val_loss: 1.1791 - val_acc: 0.4925\n",
      "Epoch 20/20\n",
      " - 5s - loss: 0.7911 - acc: 0.7688 - val_loss: 1.2469 - val_acc: 0.4627\n"
     ]
    }
   ],
   "source": [
    "history = model.fit(\n",
    "  X_train, y_trainHot,\n",
    "  batch_size = 8,\n",
    "  epochs = 20,\n",
    "  verbose=2,\n",
    "  validation_data = (X_validation, y_valHot))"
   ]
  },
  {
   "cell_type": "code",
   "execution_count": 31,
   "metadata": {},
   "outputs": [
    {
     "data": {
      "text/plain": [
       "<matplotlib.image.AxesImage at 0x1f934884a20>"
      ]
     },
     "execution_count": 31,
     "metadata": {},
     "output_type": "execute_result"
    },
    {
     "data": {
      "image/png": "[encoded data removed]",
      "text/plain": [
       "<Figure size 432x288 with 1 Axes>"
      ]
     },
     "metadata": {},
     "output_type": "display_data"
    }
   ],
   "source": [
    "plt.imshow(array_to_img(X_test[0]))"
   ]
  },
  {
   "cell_type": "code",
   "execution_count": 25,
   "metadata": {},
   "outputs": [
    {
     "name": "stdout",
     "output_type": "stream",
     "text": [
      "[[4.88855362e-01 5.11144638e-01]\n",
      " [4.78354186e-01 5.21645844e-01]\n",
      " [2.17645347e-01 7.82354712e-01]\n",
      " [5.67994535e-01 4.32005465e-01]\n",
      " [4.48213965e-02 9.55178618e-01]\n",
      " [1.31689101e-01 8.68310869e-01]\n",
      " [9.15806115e-01 8.41938481e-02]\n",
      " [2.53361255e-01 7.46638715e-01]\n",
      " [2.85392731e-01 7.14607298e-01]\n",
      " [9.60654855e-01 3.93452086e-02]\n",
      " [9.35670018e-01 6.43300116e-02]\n",
      " [9.60654855e-01 3.93452086e-02]\n",
      " [9.87569392e-01 1.24306092e-02]\n",
      " [9.77819979e-01 2.21800301e-02]\n",
      " [9.79234815e-01 2.07652040e-02]\n",
      " [9.96608496e-01 3.39153316e-03]\n",
      " [9.64718223e-01 3.52817923e-02]\n",
      " [9.37366366e-01 6.26336560e-02]\n",
      " [3.14653188e-01 6.85346842e-01]\n",
      " [7.40587771e-01 2.59412259e-01]\n",
      " [8.84654224e-01 1.15345754e-01]\n",
      " [9.08945382e-01 9.10545439e-02]\n",
      " [7.59479821e-01 2.40520179e-01]\n",
      " [7.33025372e-02 9.26697433e-01]\n",
      " [4.08505112e-01 5.91494918e-01]\n",
      " [8.21378350e-01 1.78621650e-01]\n",
      " [1.47426669e-02 9.85257328e-01]\n",
      " [7.61961984e-03 9.92380381e-01]\n",
      " [3.21579337e-01 6.78420663e-01]\n",
      " [1.11624613e-01 8.88375401e-01]\n",
      " [1.18780285e-02 9.88121986e-01]\n",
      " [3.35953984e-04 9.99664068e-01]\n",
      " [7.44802528e-04 9.99255121e-01]\n",
      " [2.73732059e-02 9.72626746e-01]\n",
      " [3.96918617e-02 9.60308194e-01]\n",
      " [3.74035537e-02 9.62596416e-01]\n",
      " [3.39145176e-02 9.66085494e-01]\n",
      " [9.06424597e-03 9.90935743e-01]\n",
      " [5.10954624e-03 9.94890451e-01]]\n",
      "(39, 2)\n"
     ]
    }
   ],
   "source": [
    "predicts = model.predict(X_test, batch_size=128)\n",
    "print(predicts)\n",
    "print(predicts.shape)"
   ]
  },
  {
   "cell_type": "code",
   "execution_count": null,
   "metadata": {},
   "outputs": [],
   "source": []
  },
  {
   "cell_type": "code",
   "execution_count": null,
   "metadata": {},
   "outputs": [],
   "source": []
  },
  {
   "cell_type": "code",
   "execution_count": null,
   "metadata": {},
   "outputs": [],
   "source": []
  }
 ],
 "metadata": {
  "kernelspec": {
   "display_name": "Python 3",
   "language": "python",
   "name": "python3"
  },
  "language_info": {
   "codemirror_mode": {
    "name": "ipython",
    "version": 3
   },
   "file_extension": ".py",
   "mimetype": "text/x-python",
   "name": "python",
   "nbconvert_exporter": "python",
   "pygments_lexer": "ipython3",
   "version": "3.6.5"
  }
 },
 "nbformat": 4,
 "nbformat_minor": 2
}
