{
 "cells": [
  {
   "cell_type": "code",
   "execution_count": 1,
   "metadata": {},
   "outputs": [],
   "source": [
    "import warnings\n",
    "warnings.filterwarnings('always')\n",
    "warnings.filterwarnings('ignore')"
   ]
  },
  {
   "cell_type": "code",
   "execution_count": 2,
   "metadata": {},
   "outputs": [
    {
     "name": "stderr",
     "output_type": "stream",
     "text": [
      "Using TensorFlow backend.\n"
     ]
    }
   ],
   "source": [
    "import os\n",
    "import numpy as np\n",
    "import cv2\n",
    "import pandas as pd\n",
    "import seaborn as sns\n",
    "import skimage.transform\n",
    "from tqdm import tqdm, tqdm_notebook\n",
    "import skimage\n",
    "from skimage import io\n",
    "from skimage.color import rgb2gray\n",
    "from skimage import feature as ft\n",
    "from keras.utils.np_utils import to_categorical\n",
    "from keras.preprocessing.image import load_img, img_to_array, array_to_img\n",
    "\n",
    "import matplotlib.pyplot as plt\n",
    "%matplotlib inline"
   ]
  },
  {
   "cell_type": "code",
   "execution_count": 3,
   "metadata": {},
   "outputs": [],
   "source": [
    "imageSize=224\n",
    "\n",
    "train_dir = 'data/train/'\n",
    "validation_dir = 'data/validation/'\n",
    "test_dir = 'data/test/'"
   ]
  },
  {
   "cell_type": "code",
   "execution_count": 4,
   "metadata": {},
   "outputs": [],
   "source": [
    "def get_data(folder):\n",
    "    \"\"\"\n",
    "    Load the data and labels from the given folder.\n",
    "    \"\"\"\n",
    "    X = []\n",
    "    y = []\n",
    "    for folderName in os.listdir(folder):\n",
    "        if not folderName.startswith('.'):\n",
    "            if folderName in ['benign']:\n",
    "                label = 0\n",
    "            elif folderName in ['malignant']:\n",
    "                label = 1\n",
    "#             else:\n",
    "#                 label = 4\n",
    "            for image_filename in tqdm_notebook(os.listdir(folder + folderName)):\n",
    "                img_file = cv2.imread(folder + folderName + '/' + image_filename)\n",
    "                if img_file is not None:\n",
    "                    img_gray = rgb2gray(img_file)\n",
    "                    img_lbp = ft.local_binary_pattern(img_gray, 8 * 8, 8)\n",
    "                    img_file = skimage.transform.resize(img_lbp, (imageSize, imageSize), mode='constant')\n",
    "                    img = np.expand_dims(img_file, axis=-1)\n",
    "                    img_arr = np.asarray(img)\n",
    "                    X.append(img_arr)\n",
    "                    y.append(label)\n",
    "    X = np.asarray(X)\n",
    "    y = np.asarray(y)\n",
    "    return X,y"
   ]
  },
  {
   "cell_type": "code",
   "execution_count": 5,
   "metadata": {},
   "outputs": [
    {
     "data": {
      "application/vnd.jupyter.widget-view+json": {
       "model_id": "59cbbbd291634ec8ba9fc5457e87d201",
       "version_major": 2,
       "version_minor": 0
      },
      "text/plain": [
       "HBox(children=(IntProgress(value=0, max=258), HTML(value='')))"
      ]
     },
     "metadata": {},
     "output_type": "display_data"
    },
    {
     "name": "stdout",
     "output_type": "stream",
     "text": [
      "\n"
     ]
    },
    {
     "data": {
      "application/vnd.jupyter.widget-view+json": {
       "model_id": "9058ec8cc06e4fca99b991b554c44ccc",
       "version_major": 2,
       "version_minor": 0
      },
      "text/plain": [
       "HBox(children=(IntProgress(value=0, max=62), HTML(value='')))"
      ]
     },
     "metadata": {},
     "output_type": "display_data"
    },
    {
     "name": "stdout",
     "output_type": "stream",
     "text": [
      "\n"
     ]
    }
   ],
   "source": [
    "X_train, y_train = get_data(train_dir)"
   ]
  },
  {
   "cell_type": "code",
   "execution_count": 6,
   "metadata": {},
   "outputs": [
    {
     "data": {
      "application/vnd.jupyter.widget-view+json": {
       "model_id": "c413f192c994491cb85527c27dc76026",
       "version_major": 2,
       "version_minor": 0
      },
      "text/plain": [
       "HBox(children=(IntProgress(value=0, max=50), HTML(value='')))"
      ]
     },
     "metadata": {},
     "output_type": "display_data"
    },
    {
     "name": "stdout",
     "output_type": "stream",
     "text": [
      "\n"
     ]
    },
    {
     "data": {
      "application/vnd.jupyter.widget-view+json": {
       "model_id": "772afc726a09420bb7449830f7b4d8e6",
       "version_major": 2,
       "version_minor": 0
      },
      "text/plain": [
       "HBox(children=(IntProgress(value=0, max=17), HTML(value='')))"
      ]
     },
     "metadata": {},
     "output_type": "display_data"
    },
    {
     "name": "stdout",
     "output_type": "stream",
     "text": [
      "\n"
     ]
    }
   ],
   "source": [
    "X_validation, y_validation= get_data(validation_dir)"
   ]
  },
  {
   "cell_type": "code",
   "execution_count": 7,
   "metadata": {},
   "outputs": [
    {
     "data": {
      "application/vnd.jupyter.widget-view+json": {
       "model_id": "71b88d8d5a6f4210b5d65b997382661d",
       "version_major": 2,
       "version_minor": 0
      },
      "text/plain": [
       "HBox(children=(IntProgress(value=0, max=26), HTML(value='')))"
      ]
     },
     "metadata": {},
     "output_type": "display_data"
    },
    {
     "name": "stdout",
     "output_type": "stream",
     "text": [
      "\n"
     ]
    },
    {
     "data": {
      "application/vnd.jupyter.widget-view+json": {
       "model_id": "27dab9c1776846649019494e7f80cf70",
       "version_major": 2,
       "version_minor": 0
      },
      "text/plain": [
       "HBox(children=(IntProgress(value=0, max=13), HTML(value='')))"
      ]
     },
     "metadata": {},
     "output_type": "display_data"
    },
    {
     "name": "stdout",
     "output_type": "stream",
     "text": [
      "\n"
     ]
    }
   ],
   "source": [
    "X_test, y_test= get_data(test_dir)"
   ]
  },
  {
   "cell_type": "code",
   "execution_count": 8,
   "metadata": {},
   "outputs": [
    {
     "name": "stdout",
     "output_type": "stream",
     "text": [
      "X_train shape: (320, 224, 224, 1)\n",
      "y_train shape: (320,)\n",
      "X_validation shape: (67, 224, 224, 1)\n",
      "y_validation shape: (67,)\n",
      "X_test shape: (39, 224, 224, 1)\n",
      "y_test shape: (39,)\n"
     ]
    }
   ],
   "source": [
    "print(\"X_train shape:\", X_train.shape)\n",
    "print(\"y_train shape:\", y_train.shape)\n",
    "print(\"X_validation shape:\", X_validation.shape)\n",
    "print(\"y_validation shape:\", y_validation.shape)\n",
    "print(\"X_test shape:\", X_test.shape)\n",
    "print(\"y_test shape:\", y_test.shape)"
   ]
  },
  {
   "cell_type": "code",
   "execution_count": 9,
   "metadata": {},
   "outputs": [],
   "source": [
    "y_trainHot = to_categorical(y_train, num_classes = 2)\n",
    "y_valHot = to_categorical(y_validation, num_classes = 2)\n",
    "y_testHot = to_categorical(y_test, num_classes = 2)"
   ]
  },
  {
   "cell_type": "code",
   "execution_count": 10,
   "metadata": {},
   "outputs": [
    {
     "name": "stdout",
     "output_type": "stream",
     "text": [
      "X_train shape: (320, 224, 224, 1)\n",
      "y_train shape: (320, 2)\n",
      "X_validation shape: (67, 224, 224, 1)\n",
      "y_validation shape: (67, 2)\n",
      "X_test shape: (39, 224, 224, 1)\n",
      "y_test shape: (39, 2)\n"
     ]
    }
   ],
   "source": [
    "print(\"X_train shape:\", X_train.shape)\n",
    "print(\"y_train shape:\", y_trainHot.shape)\n",
    "print(\"X_validation shape:\", X_validation.shape)\n",
    "print(\"y_validation shape:\", y_valHot.shape)\n",
    "print(\"X_test shape:\", X_test.shape)\n",
    "print(\"y_test shape:\", y_testHot.shape)"
   ]
  },
  {
   "cell_type": "code",
   "execution_count": 11,
   "metadata": {},
   "outputs": [
    {
     "data": {
      "text/plain": [
       "<matplotlib.image.AxesImage at 0x24fc56b1438>"
      ]
     },
     "execution_count": 11,
     "metadata": {},
     "output_type": "execute_result"
    },
    {
     "data": {
      "image/png": "[encoded data removed]",
      "text/plain": [
       "<Figure size 432x288 with 1 Axes>"
      ]
     },
     "metadata": {},
     "output_type": "display_data"
    }
   ],
   "source": [
    "plt.imshow(array_to_img(X_test[0]), cmap= \"gray\")"
   ]
  },
  {
   "cell_type": "code",
   "execution_count": 12,
   "metadata": {},
   "outputs": [
    {
     "data": {
      "text/plain": [
       "array([0, 0, 0, 0, 0, 0, 0, 0, 0, 0, 0, 0, 0, 0, 0, 0, 0, 0, 0, 0, 0, 0,\n",
       "       0, 0, 0, 0, 1, 1, 1, 1, 1, 1, 1, 1, 1, 1, 1, 1, 1])"
      ]
     },
     "execution_count": 12,
     "metadata": {},
     "output_type": "execute_result"
    }
   ],
   "source": [
    "y_test"
   ]
  },
  {
   "cell_type": "code",
   "execution_count": 13,
   "metadata": {},
   "outputs": [
    {
     "data": {
      "text/plain": [
       "array([[1., 0.],\n",
       "       [1., 0.],\n",
       "       [1., 0.],\n",
       "       [1., 0.],\n",
       "       [1., 0.],\n",
       "       [1., 0.],\n",
       "       [1., 0.],\n",
       "       [1., 0.],\n",
       "       [1., 0.],\n",
       "       [1., 0.],\n",
       "       [1., 0.],\n",
       "       [1., 0.],\n",
       "       [1., 0.],\n",
       "       [1., 0.],\n",
       "       [1., 0.],\n",
       "       [1., 0.],\n",
       "       [1., 0.],\n",
       "       [1., 0.],\n",
       "       [1., 0.],\n",
       "       [1., 0.],\n",
       "       [1., 0.],\n",
       "       [1., 0.],\n",
       "       [1., 0.],\n",
       "       [1., 0.],\n",
       "       [1., 0.],\n",
       "       [1., 0.],\n",
       "       [0., 1.],\n",
       "       [0., 1.],\n",
       "       [0., 1.],\n",
       "       [0., 1.],\n",
       "       [0., 1.],\n",
       "       [0., 1.],\n",
       "       [0., 1.],\n",
       "       [0., 1.],\n",
       "       [0., 1.],\n",
       "       [0., 1.],\n",
       "       [0., 1.],\n",
       "       [0., 1.],\n",
       "       [0., 1.]], dtype=float32)"
      ]
     },
     "execution_count": 13,
     "metadata": {},
     "output_type": "execute_result"
    }
   ],
   "source": [
    "y_testHot"
   ]
  },
  {
   "cell_type": "code",
   "execution_count": 31,
   "metadata": {},
   "outputs": [],
   "source": [
    "input_shape = (imageSize, imageSize, 1)\n",
    "output_classes = 2\n",
    "\n",
    "\n",
    "from keras.models import Sequential, Model\n",
    "from keras.optimizers import Adam\n",
    "from keras.layers import Flatten, Dense, Dropout, Conv2D, MaxPooling2D\n",
    "\n",
    "model = Sequential()\n",
    "model.add(Conv2D(32, (3, 3), activation='relu',\n",
    "                        input_shape=input_shape))\n",
    "model.add(MaxPooling2D((2, 2)))\n",
    "model.add(Conv2D(64, (3, 3), activation='relu'))\n",
    "model.add(MaxPooling2D((2, 2)))\n",
    "model.add(Conv2D(128, (3, 3), activation='relu'))\n",
    "model.add(MaxPooling2D((2, 2)))\n",
    "model.add(Conv2D(128, (3, 3), activation='relu'))\n",
    "model.add(MaxPooling2D((2, 2)))\n",
    "model.add(Flatten())\n",
    "model.add(Dense(512, activation='relu'))\n",
    "model.add(Dense(2, activation='softmax'))"
   ]
  },
  {
   "cell_type": "code",
   "execution_count": 32,
   "metadata": {},
   "outputs": [],
   "source": [
    "adam_opt = Adam(lr=1e-5, beta_1=0.9, beta_2=0.999, epsilon=1e-08, decay=1e-5)\n",
    "# sgd_opt = SGD(lr=1e-06, momentum=0.0, decay=0.0, nesterov=False)\n",
    "# rmsp_opt = RMSprop(lr=1e-4, decay=0.9)\n",
    "\n",
    "model.compile(optimizer = adam_opt, loss='categorical_crossentropy', metrics=['accuracy'])"
   ]
  },
  {
   "cell_type": "code",
   "execution_count": 33,
   "metadata": {},
   "outputs": [
    {
     "name": "stdout",
     "output_type": "stream",
     "text": [
      "Train on 320 samples, validate on 67 samples\n",
      "Epoch 1/20\n",
      " - 2s - loss: 5.9435 - acc: 0.6313 - val_loss: 6.9765 - val_acc: 0.5672\n",
      "Epoch 2/20\n",
      " - 1s - loss: 5.9435 - acc: 0.6313 - val_loss: 6.9765 - val_acc: 0.5672\n",
      "Epoch 3/20\n",
      " - 1s - loss: 5.9435 - acc: 0.6313 - val_loss: 6.9765 - val_acc: 0.5672\n",
      "Epoch 4/20\n",
      " - 1s - loss: 5.9435 - acc: 0.6313 - val_loss: 6.9765 - val_acc: 0.5672\n",
      "Epoch 5/20\n",
      " - 1s - loss: 5.9435 - acc: 0.6313 - val_loss: 6.9765 - val_acc: 0.5672\n",
      "Epoch 6/20\n",
      " - 1s - loss: 5.9435 - acc: 0.6313 - val_loss: 6.9765 - val_acc: 0.5672\n",
      "Epoch 7/20\n",
      " - 1s - loss: 5.9435 - acc: 0.6313 - val_loss: 6.9765 - val_acc: 0.5672\n",
      "Epoch 8/20\n",
      " - 1s - loss: 5.9435 - acc: 0.6313 - val_loss: 6.9765 - val_acc: 0.5672\n",
      "Epoch 9/20\n",
      " - 1s - loss: 5.9435 - acc: 0.6313 - val_loss: 6.9765 - val_acc: 0.5672\n",
      "Epoch 10/20\n",
      " - 1s - loss: 5.9435 - acc: 0.6313 - val_loss: 6.9765 - val_acc: 0.5672\n",
      "Epoch 11/20\n",
      " - 1s - loss: 5.9435 - acc: 0.6313 - val_loss: 6.9765 - val_acc: 0.5672\n",
      "Epoch 12/20\n",
      " - 1s - loss: 5.9435 - acc: 0.6313 - val_loss: 6.9765 - val_acc: 0.5672\n",
      "Epoch 13/20\n",
      " - 1s - loss: 5.9435 - acc: 0.6313 - val_loss: 6.9765 - val_acc: 0.5672\n",
      "Epoch 14/20\n",
      " - 1s - loss: 5.9435 - acc: 0.6313 - val_loss: 6.9765 - val_acc: 0.5672\n",
      "Epoch 15/20\n",
      " - 1s - loss: 5.9435 - acc: 0.6313 - val_loss: 6.9765 - val_acc: 0.5672\n",
      "Epoch 16/20\n",
      " - 1s - loss: 5.9435 - acc: 0.6313 - val_loss: 6.9765 - val_acc: 0.5672\n",
      "Epoch 17/20\n",
      " - 1s - loss: 5.9435 - acc: 0.6313 - val_loss: 6.9765 - val_acc: 0.5672\n",
      "Epoch 18/20\n",
      " - 1s - loss: 5.9435 - acc: 0.6313 - val_loss: 6.9765 - val_acc: 0.5672\n",
      "Epoch 19/20\n",
      " - 1s - loss: 5.9435 - acc: 0.6313 - val_loss: 6.9765 - val_acc: 0.5672\n",
      "Epoch 20/20\n",
      " - 1s - loss: 5.9435 - acc: 0.6313 - val_loss: 6.9765 - val_acc: 0.5672\n"
     ]
    }
   ],
   "source": [
    "history = model.fit(\n",
    "  X_train, y_trainHot,\n",
    "  batch_size = 8,\n",
    "  epochs = 20,\n",
    "  verbose=2,\n",
    "  validation_data = (X_validation, y_valHot))"
   ]
  },
  {
   "cell_type": "code",
   "execution_count": 34,
   "metadata": {},
   "outputs": [
    {
     "name": "stdout",
     "output_type": "stream",
     "text": [
      "39/39 [==============================] - ETA:  - 0s 845us/step\n"
     ]
    }
   ],
   "source": [
    "scores = model.evaluate(X_test, y_testHot)"
   ]
  },
  {
   "cell_type": "code",
   "execution_count": 35,
   "metadata": {},
   "outputs": [
    {
     "name": "stdout",
     "output_type": "stream",
     "text": [
      "accuracy: 0.6153846161487775\n"
     ]
    }
   ],
   "source": [
    "print('accuracy:',scores[1])"
   ]
  },
  {
   "cell_type": "code",
   "execution_count": null,
   "metadata": {},
   "outputs": [],
   "source": []
  }
 ],
 "metadata": {
  "kernelspec": {
   "display_name": "Python 3",
   "language": "python",
   "name": "python3"
  },
  "language_info": {
   "codemirror_mode": {
    "name": "ipython",
    "version": 3
   },
   "file_extension": ".py",
   "mimetype": "text/x-python",
   "name": "python",
   "nbconvert_exporter": "python",
   "pygments_lexer": "ipython3",
   "version": "3.6.5"
  }
 },
 "nbformat": 4,
 "nbformat_minor": 2
}
